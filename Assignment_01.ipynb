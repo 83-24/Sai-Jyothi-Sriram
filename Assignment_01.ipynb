{
 "cells": [
  {
   "cell_type": "markdown",
   "id": "548b84c2-e24f-4a12-98bb-5e7bd5ec86bd",
   "metadata": {},
   "source": [
    "# Python"
   ]
  },
  {
   "cell_type": "markdown",
   "id": "99fbfc45-ba9e-4766-8219-f5dbcacc8481",
   "metadata": {},
   "source": [
    "<a target=\"_blank\" href=\"https://colab.research.google.com/github/kgsb24/rishi-college/blob/main/assignments/Assignment_01.ipynb\">\n",
    "  <img src=\"https://colab.research.google.com/assets/colab-badge.svg\" alt=\"Open In Colab\"/>\n",
    "</a>"
   ]
  },
  {
   "cell_type": "markdown",
   "id": "07a1f870-f905-4703-8b65-12e83172133a",
   "metadata": {},
   "source": [
    "## Basic Python Fundamentals"
   ]
  },
  {
   "cell_type": "code",
   "execution_count": 1,
   "id": "502e1d87-2fdd-4588-a330-2af21268215e",
   "metadata": {},
   "outputs": [
    {
     "data": {
      "text/plain": [
       "int"
      ]
     },
     "execution_count": 1,
     "metadata": {},
     "output_type": "execute_result"
    }
   ],
   "source": [
    "# Write a Python program to declare a variable x with the value 10 and print its type.\n",
    "x=10\n",
    "type(x)"
   ]
  },
  {
   "cell_type": "code",
   "execution_count": 2,
   "id": "dae77579-4b7d-4f06-96e0-7bdfe43860d7",
   "metadata": {},
   "outputs": [
    {
     "name": "stdout",
     "output_type": "stream",
     "text": [
      "30\n"
     ]
    }
   ],
   "source": [
    "# Write a Python program to declare three variables a = 5, b = 10, and c = 15, and print their sum.\n",
    "a=5\n",
    "b=10\n",
    "c=15\n",
    "print(a+b+c)"
   ]
  },
  {
   "cell_type": "code",
   "execution_count": 3,
   "id": "c32867b2-a615-426a-89ae-bd2793b6a4dc",
   "metadata": {},
   "outputs": [
    {
     "data": {
      "text/plain": [
       "int"
      ]
     },
     "execution_count": 3,
     "metadata": {},
     "output_type": "execute_result"
    }
   ],
   "source": [
    "# Write a Python program that checks and prints the type of a variable (e.g., int, float, str, etc.).\n",
    "a=5\n",
    "type(a)"
   ]
  },
  {
   "cell_type": "code",
   "execution_count": 1,
   "id": "8b233e41-9d44-4869-9ead-afb3ff1c0b67",
   "metadata": {},
   "outputs": [
    {
     "name": "stdout",
     "output_type": "stream",
     "text": [
      "9\n",
      "-1\n",
      "20\n",
      "0.8\n"
     ]
    }
   ],
   "source": [
    "# Write a Python program to perform addition, subtraction, multiplication, and division on two numbers. (User input is required for the numbers)\n",
    "a=int(input(\"Enter the value of a\"))\n",
    "b=int(input(\"Enter the value of b\"))\n",
    "sum=a+b\n",
    "print(sum)\n",
    "diff=a-b\n",
    "print(diff)\n",
    "pro=a*b\n",
    "print(pro)\n",
    "div=a/b\n",
    "print(div)\n"
   ]
  },
  {
   "cell_type": "code",
   "execution_count": 4,
   "id": "629435bd-6bfa-44de-91d9-3b2937713257",
   "metadata": {},
   "outputs": [
    {
     "data": {
      "text/plain": [
       "float"
      ]
     },
     "execution_count": 4,
     "metadata": {},
     "output_type": "execute_result"
    }
   ],
   "source": [
    "# Write a Python program to convert a string \"123\" to an integer and a float and print the results.\n",
    "userinput=\"123\"\n",
    "userinput=int(userinput)\n",
    "type(userinput)\n",
    "userinput=float(userinput)\n",
    "type(userinput)\n"
   ]
  },
  {
   "cell_type": "code",
   "execution_count": 6,
   "id": "599421f1-51c1-4653-9d78-b007fcc6861b",
   "metadata": {},
   "outputs": [
    {
     "name": "stdout",
     "output_type": "stream",
     "text": [
      "the first letter of the given string is: d\n"
     ]
    }
   ],
   "source": [
    "# Write a Python program to print the first character of a given string. (User input for the string)\n",
    "userinput=str(input(\"Enter a string:\"))\n",
    "print(\"the first letter of the given string is:\",userinput[0])"
   ]
  },
  {
   "cell_type": "code",
   "execution_count": 8,
   "id": "54ee0a5d-415f-40b6-b82e-c0de12a002f9",
   "metadata": {},
   "outputs": [
    {
     "name": "stdout",
     "output_type": "stream",
     "text": [
      "the first letter of the given string is: 8\n"
     ]
    }
   ],
   "source": [
    "# Write a Python program to print the length of a string. (User input for the string)\n",
    "userinput=str(input(\"Enter a string:\"))\n",
    "print(\"the first letter of the given string is:\",len(userinput))"
   ]
  },
  {
   "cell_type": "code",
   "execution_count": 11,
   "id": "65f44c33-618e-4337-a9d1-9de888c93a0a",
   "metadata": {},
   "outputs": [
    {
     "data": {
      "text/plain": [
       "True"
      ]
     },
     "execution_count": 11,
     "metadata": {},
     "output_type": "execute_result"
    }
   ],
   "source": [
    "# Write a Python program to check if a given string contains only alphabets.\n",
    "alphabet=\"saijyothi\"\n",
    "alphabet.isalpha()"
   ]
  },
  {
   "cell_type": "code",
   "execution_count": 12,
   "id": "37463128-2b51-4860-b6bf-40d3c03fbe84",
   "metadata": {},
   "outputs": [
    {
     "name": "stdout",
     "output_type": "stream",
     "text": [
      "Saijyothisriram\n"
     ]
    }
   ],
   "source": [
    "# Write a Python program to concatenate two strings. (User input for the strings)\n",
    "firstname=\"Saijyothi\"\n",
    "lastname=\"sriram\"\n",
    "fullname=firstname+\"\"+lastname\n",
    "print(fullname)"
   ]
  },
  {
   "cell_type": "code",
   "execution_count": 15,
   "id": "b1c5d364-eccf-473a-b03a-ab15f3e917cf",
   "metadata": {},
   "outputs": [
    {
     "name": "stdout",
     "output_type": "stream",
     "text": [
      "The index of the sub string abc is: 6\n"
     ]
    }
   ],
   "source": [
    "# Write a Python program to find the index of a substring \"abc\" in a string. (User input for the string)\n",
    "s1=str(input(\"Enter the string\"))\n",
    "index=s1.find(\"abc\")\n",
    "if index!= -1:\n",
    "    print(\"The index of the sub string abc is:\",index)\n",
    "else:\n",
    "    print(\"There is no substring abc in the string\")\n",
    "    "
   ]
  },
  {
   "cell_type": "code",
   "execution_count": 2,
   "id": "cc92afd9-ba4b-4934-a79d-f26825b4efc2",
   "metadata": {},
   "outputs": [
    {
     "data": {
      "text/plain": [
       "'saijyothi'"
      ]
     },
     "execution_count": 2,
     "metadata": {},
     "output_type": "execute_result"
    }
   ],
   "source": [
    "# Write a Python program to convert a string to both uppercase and lowercase. (User input for the string)\n",
    "s1=str(input(\"Enter the string\"))\n",
    "s1.upper()\n",
    "s2=str(input(\"Enter the string\"))\n",
    "s2.lower()"
   ]
  },
  {
   "cell_type": "code",
   "execution_count": 16,
   "id": "f24f79b3-da8b-44bf-8310-c68442e86e3e",
   "metadata": {},
   "outputs": [
    {
     "name": "stdout",
     "output_type": "stream",
     "text": [
      "The no. of times i  has occured is: 2\n"
     ]
    }
   ],
   "source": [
    "# Write a Python program to count how many times a particular character appears in a string. (User input for string and character)\n",
    "a1=input(\"Enter the string:\")\n",
    "character=input(\"Enter the character to count\")\n",
    "if len(character)!=1:\n",
    "    print(\"Please ente only single charcater\")\n",
    "else:\n",
    "    count=a1.count(character)\n",
    "    print(\"The no. of times\",character,\" has occured is:\",count)"
   ]
  },
  {
   "cell_type": "code",
   "execution_count": 17,
   "id": "f2e8f25c-5c34-44eb-b749-7cc4c100b9a8",
   "metadata": {},
   "outputs": [
    {
     "name": "stdout",
     "output_type": "stream",
     "text": [
      "hello Sai Jyothi Good morning\n"
     ]
    }
   ],
   "source": [
    "# Write a Python program to take the user's name as input and print a personalized greeting. (Hello, username, Good Morning)\n",
    "name=input(\"Enter your name:\")\n",
    "print(\"hello\",name,\"Good morning\")\n"
   ]
  },
  {
   "cell_type": "code",
   "execution_count": 23,
   "id": "189296cf-77e6-4f48-b010-77458da5bc9d",
   "metadata": {},
   "outputs": [
    {
     "name": "stdout",
     "output_type": "stream",
     "text": [
      "The sum of the given two numbers is: 9\n"
     ]
    }
   ],
   "source": [
    "# Write a Python program to take two numbers as input and print their sum.\n",
    "a=int(input(\"Enter a number\"))\n",
    "b=int(input(\"Enter b number\"))\n",
    "sum=a+b\n",
    "print(\"The sum of the given two numbers is:\",sum)"
   ]
  },
  {
   "cell_type": "code",
   "execution_count": 24,
   "id": "0563b26c-0218-47b8-9035-98beb73b0931",
   "metadata": {},
   "outputs": [
    {
     "name": "stdout",
     "output_type": "stream",
     "text": [
      "Helloo Sai Jyothi you are 21 years old!!\n"
     ]
    }
   ],
   "source": [
    "# Write a Python program to format and display a string containing the user's name and age. (User input required)\n",
    "name=input(\"Enter your name:\")\n",
    "age=int(input(\"Enter your age:\"))\n",
    "print(\"Helloo\",name,\"you are\",age,\"years old!!\")"
   ]
  },
  {
   "cell_type": "markdown",
   "id": "0bde6e5a-0415-4b06-8b5a-95fa252b34eb",
   "metadata": {},
   "source": [
    "## Control Structures (Conditionals and Loops)"
   ]
  },
  {
   "cell_type": "code",
   "execution_count": 2,
   "id": "aefff5f3-b61e-43e6-a458-7367ef1af9de",
   "metadata": {},
   "outputs": [
    {
     "name": "stdout",
     "output_type": "stream",
     "text": [
      "The number is positive\n"
     ]
    }
   ],
   "source": [
    "# Write a Python program that takes a number as input and checks whether it is positive, negative, or zero.\n",
    "number=int(input(\"Enter a number:\"))\n",
    "if number<0:\n",
    "    print(\"The number is negative\")\n",
    "elif number>0:\n",
    "    print(\"The number is positive\")\n",
    "else:\n",
    "    print(\"The number is 0\")"
   ]
  },
  {
   "cell_type": "code",
   "execution_count": 4,
   "id": "4dc6d14b-6d22-4348-859a-2a03f9be65f7",
   "metadata": {},
   "outputs": [
    {
     "name": "stdout",
     "output_type": "stream",
     "text": [
      "The max number is: 7\n"
     ]
    }
   ],
   "source": [
    "# Write a Python program to find the maximum of three numbers. (User input for the numbers)\n",
    "s1=int(input(\"Enter a number s1:\"))\n",
    "s2=int(input(\"Enter a number s2:\"))\n",
    "s3=int(input(\"Enter a number s3:\"))\n",
    "if s1>s2 and s1>s3:\n",
    "    max_num = s1\n",
    "elif s2>s1 and s2>s3:\n",
    "    max_num=s2\n",
    "else:\n",
    "    max_num=s3\n",
    "print(\"The max number is:\",max_num)"
   ]
  },
  {
   "cell_type": "code",
   "execution_count": 8,
   "id": "3f6d1f45-eb68-4142-89d6-510046f21879",
   "metadata": {},
   "outputs": [
    {
     "name": "stdout",
     "output_type": "stream",
     "text": [
      "The year is a leap year\n"
     ]
    }
   ],
   "source": [
    "# Write a Python program to check if a year is a leap year. (User input for the year)\n",
    "year=int(input(\"Enter the year:\"))\n",
    "if (year % 4 == 0 and year % 100 != 0) or (year % 400 == 0):\n",
    "    print(\"The year is a leap year\")\n",
    "else:\n",
    "    print(\"The year is not a leap year\")"
   ]
  },
  {
   "cell_type": "code",
   "execution_count": 11,
   "id": "b6a07105-6fa5-4f70-b64b-ebd66afc3c2b",
   "metadata": {},
   "outputs": [
    {
     "name": "stdout",
     "output_type": "stream",
     "text": [
      "The number is divisible by both 3&5\n"
     ]
    }
   ],
   "source": [
    "# Write a Python program to check if a number is divisible by both 3 and 5. (User input for the number)\n",
    "num=int(input(\"Enter the number:\"))\n",
    "if num % 3 == 0 and num%5==0:\n",
    "    print(\"The number is divisible by both 3&5\")\n",
    "else:\n",
    "    print(\"The number is not divisible by 3&5\")"
   ]
  },
  {
   "cell_type": "code",
   "execution_count": 18,
   "id": "d10c9005-b85d-42f9-81d0-65d149415888",
   "metadata": {},
   "outputs": [
    {
     "name": "stdout",
     "output_type": "stream",
     "text": [
      "\"racecar\" is a palindrome.\n"
     ]
    }
   ],
   "source": [
    "# Write a Python program to check if a string is a palindrome. (User input for the string)\n",
    "# Input: Get a string from the user\n",
    "user_input = input(\"Enter a string: \")\n",
    "\n",
    "# Check if the string is a palindrome\n",
    "# Convert to lowercase and remove spaces for a case-insensitive comparison\n",
    "normalized_str = user_input.replace(\" \", \"\").lower()\n",
    "\n",
    "if normalized_str == normalized_str[::-1]:\n",
    "    print(f'\"{user_input}\" is a palindrome.')\n",
    "else:\n",
    "    print(f'\"{user_input}\" is not a palindrome.')\n",
    "\n"
   ]
  },
  {
   "cell_type": "code",
   "execution_count": null,
   "id": "c387b542",
   "metadata": {},
   "outputs": [],
   "source": [
    "def isPalindrome():\n",
    "    return string_input == string_input[::-1]\n",
    "string_input=input(\"Enter a string\")\n",
    "ans=isPalindrome(string_input)\n",
    "if ans:\n",
    "    print(\"The string is a palindrome\")\n",
    "else:\n",
    "    print(\"The string is not a palindrome\")"
   ]
  },
  {
   "cell_type": "code",
   "execution_count": 24,
   "id": "82d76cdf-efc6-45c6-ab09-9d1f17b3d857",
   "metadata": {},
   "outputs": [
    {
     "name": "stdout",
     "output_type": "stream",
     "text": [
      "1\n",
      "2\n",
      "3\n",
      "4\n",
      "5\n",
      "6\n",
      "7\n",
      "8\n",
      "9\n"
     ]
    }
   ],
   "source": [
    "# Write a Python program to print numbers from 1 to 10 using a for loop.\n",
    "i=1\n",
    "for i in range(1,10):\n",
    "    print(i)"
   ]
  },
  {
   "cell_type": "code",
   "execution_count": 36,
   "id": "d09e8994-e984-4c12-ab1e-1bfc6938a389",
   "metadata": {},
   "outputs": [
    {
     "name": "stdout",
     "output_type": "stream",
     "text": [
      "2\n",
      "4\n",
      "6\n",
      "8\n",
      "10\n",
      "12\n",
      "14\n",
      "16\n",
      "18\n",
      "20\n"
     ]
    }
   ],
   "source": [
    "# Write a Python program to print all even numbers from 1 to 20 using a while loop.\n",
    "number=1\n",
    "while number <= 20:\n",
    "    if number % 2 == 0:\n",
    "        print(number) \n",
    "    number+=1"
   ]
  },
  {
   "cell_type": "code",
   "execution_count": 49,
   "id": "c09ca878-167e-49ca-97f0-247a43c9b472",
   "metadata": {},
   "outputs": [
    {
     "name": "stdout",
     "output_type": "stream",
     "text": [
      " 7 x 1 = 7\n",
      " 7 x 2 = 14\n",
      " 7 x 3 = 21\n",
      " 7 x 4 = 28\n",
      " 7 x 5 = 35\n",
      " 7 x 6 = 42\n",
      " 7 x 7 = 49\n",
      " 7 x 8 = 56\n",
      " 7 x 9 = 63\n",
      " 7 x 10 = 70\n"
     ]
    }
   ],
   "source": [
    "# Write a Python program to print the multiplication table of a given number using a for loop. (User input for the number)\n",
    "table=int(input(\"Enter a number:\"))\n",
    "for i in range(1,11):\n",
    "    print(\"\",table,\"x\",i,\"=\",table*i)"
   ]
  },
  {
   "cell_type": "code",
   "execution_count": null,
   "id": "b72118ab-e62d-4af9-bcec-e1cc6af31b25",
   "metadata": {},
   "outputs": [
    {
     "name": "stdout",
     "output_type": "stream",
     "text": [
      "The sum of all numbers from 1 to 10 is 55\n"
     ]
    }
   ],
   "source": [
    "# Write a Python program to calculate the sum of all numbers from 1 to n using a while loop. (User input for n)\n",
    "n=int(input(\"Enter the value of n\"))\n",
    "total=0\n",
    "current=1\n",
    "while current <= n:\n",
    "    total+=current\n",
    "    current +=1\n",
    "print(\"The sum of all numbers from 1 to\",n,\"is\",total)"
   ]
  },
  {
   "cell_type": "code",
   "execution_count": 54,
   "id": "ae93621f-11a2-40b7-97bc-3002f03ac36a",
   "metadata": {},
   "outputs": [
    {
     "name": "stdout",
     "output_type": "stream",
     "text": [
      "The factorial of  5 is 120\n"
     ]
    }
   ],
   "source": [
    "# Write a Python program to calculate the factorial of a number using a while loop. (User input for the number)\n",
    "number = int(input(\"Enter a non-negative integer to calculate its factorial: \"))\n",
    "factorial = 1\n",
    "if number < 0:\n",
    "    print(\"Factorial is not defined for negative numbers.\")\n",
    "else:\n",
    "    current = 1\n",
    "    while current <= number:\n",
    "        factorial *= current\n",
    "        current += 1\n",
    "    print(\"The factorial of \",number,\"is\" ,factorial,)\n"
   ]
  },
  {
   "cell_type": "code",
   "execution_count": 55,
   "id": "68467ccc-d696-4ef1-84c4-164c9d87f755",
   "metadata": {},
   "outputs": [
    {
     "name": "stdout",
     "output_type": "stream",
     "text": [
      "Fibonacci sequence:\n",
      "0 1 1 2 3 "
     ]
    }
   ],
   "source": [
    "# Write a Python program to print the Fibonacci sequence up to n terms. (User input for n)\n",
    "n = int(input(\"Enter the number of terms for the Fibonacci sequence: \"))\n",
    "if n <= 0:\n",
    "    print(\"Please enter a positive integer.\")\n",
    "else:\n",
    "    a, b = 0, 1\n",
    "    count = 0\n",
    "    print(\"Fibonacci sequence:\")\n",
    "    while count < n:\n",
    "        print(a, end=\" \")\n",
    "        a, b = b, a + b  \n",
    "        count += 1\n"
   ]
  },
  {
   "cell_type": "code",
   "execution_count": 60,
   "id": "5bebd1f3-2606-4102-aa55-01cb1650f632",
   "metadata": {},
   "outputs": [
    {
     "name": "stdout",
     "output_type": "stream",
     "text": [
      "Prime numbers from 1 to 100:\n",
      "2 3 5 7 11 13 17 19 23 29 31 37 41 43 47 53 59 61 67 71 73 79 83 89 97 "
     ]
    }
   ],
   "source": [
    "# Write a Python program to find all the prime numbers from 1 to 100.\n",
    "def is_prime(num):\n",
    "    if num <= 1:\n",
    "        return False  \n",
    "    for i in range(2, int(num**0.5) + 1):  \n",
    "        if num % i == 0:\n",
    "            return False\n",
    "    return True\n",
    "print(\"Prime numbers from 1 to 100:\")\n",
    "for n in range(1, 101):\n",
    "    if is_prime(n):\n",
    "        print(n, end=\" \")\n",
    "\n"
   ]
  },
  {
   "cell_type": "code",
   "execution_count": 66,
   "id": "0a3f894e-52ba-4c0b-9158-a70f31f4fd49",
   "metadata": {},
   "outputs": [
    {
     "name": "stdout",
     "output_type": "stream",
     "text": [
      "The number is: 20\n",
      "The number is: 30\n",
      "The number is: 40\n",
      "The number is: 45\n",
      "The number is: 50\n",
      "The number is: 55\n",
      "Number greater than 55 is found 60\n"
     ]
    }
   ],
   "source": [
    "# Write a Python program that breaks out of a loop when a specific condition is met (e.g., when a number greater than 50 is found).\n",
    "num=[20,30,40,45,50,55,60]\n",
    "for number in num:\n",
    "    if number > 55:\n",
    "        print(\"Number greater than 55 is found\",number)\n",
    "        break\n",
    "    print(\"The number is:\",number)\n"
   ]
  },
  {
   "cell_type": "code",
   "execution_count": 73,
   "id": "499b91d0-1f1b-494f-af2b-8cc3a06d90ed",
   "metadata": {},
   "outputs": [
    {
     "name": "stdout",
     "output_type": "stream",
     "text": [
      "1\n",
      "3\n",
      "5\n",
      "7\n",
      "9\n",
      "11\n",
      "13\n",
      "15\n",
      "17\n",
      "19\n"
     ]
    }
   ],
   "source": [
    "# Write a Python program to skip even numbers while printing numbers from 1 to 20 using a for loop.\n",
    "for number in range(1,21):\n",
    "    if number % 2 != 0:\n",
    "        print(number) "
   ]
  },
  {
   "cell_type": "code",
   "execution_count": 74,
   "id": "f8ffed70-dfde-4262-a2fd-0d35d69b5fb1",
   "metadata": {},
   "outputs": [
    {
     "name": "stdout",
     "output_type": "stream",
     "text": [
      "The no. of times e  has occured is: 2\n"
     ]
    }
   ],
   "source": [
    "# Write a Python program to count how many times a particular character appears in a string using a for loop. (User input for string and character)\n",
    "user_string=input(\"Enter the string:\")\n",
    "character=input(\"Enter the character to count\")\n",
    "count=0\n",
    "for char in user_string:\n",
    "    if char == character:\n",
    "        count += 1\n",
    "print(\"The no. of times\",character,\" has occured is:\",count)"
   ]
  },
  {
   "cell_type": "code",
   "execution_count": 2,
   "id": "01f976ed-4dcd-4842-ae84-d3b5cc42d011",
   "metadata": {},
   "outputs": [
    {
     "name": "stdout",
     "output_type": "stream",
     "text": [
      "The sum of the digits of  456 is 15\n"
     ]
    }
   ],
   "source": [
    "# Write a Python program to calculate the sum of digits of a number. (User input for the number)\n",
    "number = input(\"Enter a number: \")\n",
    "sum= 0\n",
    "for digit in number:\n",
    "    if digit.isdigit(): \n",
    "        sum+= int(digit)\n",
    "print(\"The sum of the digits of \",number,\"is\",sum)"
   ]
  },
  {
   "cell_type": "markdown",
   "id": "fe644fae-f262-48dd-b7ff-08eb747d297e",
   "metadata": {},
   "source": [
    "## Data Structures (Lists, Tuples, Sets, Dictionaries)"
   ]
  },
  {
   "cell_type": "code",
   "execution_count": 12,
   "id": "a0333c26-8e19-4c71-9722-d32cf8625ef6",
   "metadata": {},
   "outputs": [
    {
     "name": "stdout",
     "output_type": "stream",
     "text": [
      "The sum of the elements is: 15\n"
     ]
    }
   ],
   "source": [
    "# Write a Python program to create a list of integers and print the sum of the elements.\n",
    "numbers = [1, 2, 3, 4, 5]\n",
    "sum_of_elements = sum(numbers)\n",
    "print(f\"The sum of the elements is: {sum_of_elements}\")\n",
    "\n"
   ]
  },
  {
   "cell_type": "code",
   "execution_count": 13,
   "id": "5a23046d-80b0-4f8d-a02f-4e3d833c0443",
   "metadata": {},
   "outputs": [
    {
     "name": "stdout",
     "output_type": "stream",
     "text": [
      "The largest element in the list is: 9\n"
     ]
    }
   ],
   "source": [
    "# Write a Python program to find the largest element in a list.\n",
    "# List of numbers\n",
    "numbers = [1, 5, 3, 9, 2, 8]\n",
    "\n",
    "# Find the largest element using the max() function\n",
    "largest_element = max(numbers)\n",
    "\n",
    "# Print the largest element\n",
    "print(f\"The largest element in the list is: {largest_element}\")"
   ]
  },
  {
   "cell_type": "code",
   "execution_count": 14,
   "id": "9939c2d2-90fd-4e80-81bc-227c72e60e37",
   "metadata": {},
   "outputs": [
    {
     "name": "stdout",
     "output_type": "stream",
     "text": [
      "The reversed list is: [5, 4, 3, 2, 1]\n"
     ]
    }
   ],
   "source": [
    "# Write a Python program to reverse a list.\n",
    "# List of numbers\n",
    "numbers = [1, 2, 3, 4, 5]\n",
    "\n",
    "# Reverse the list using slicing\n",
    "reversed_list = numbers[::-1]\n",
    "\n",
    "# Print the reversed list\n",
    "print(f\"The reversed list is: {reversed_list}\")\n"
   ]
  },
  {
   "cell_type": "code",
   "execution_count": 15,
   "id": "aa287db8-057b-48d4-a6d8-18cc53eb7178",
   "metadata": {},
   "outputs": [
    {
     "name": "stdout",
     "output_type": "stream",
     "text": [
      "List after removing all occurrences of 2: [1, 3, 4, 5, 6]\n"
     ]
    }
   ],
   "source": [
    "# Write a Python program to remove all occurrences of a specific element from a list.\n",
    "# List of numbers\n",
    "numbers = [1, 2, 3, 4, 2, 5, 2, 6]\n",
    "\n",
    "# Element to remove\n",
    "element_to_remove = 2\n",
    "\n",
    "# Remove all occurrences of the element using list comprehension\n",
    "filtered_numbers = [num for num in numbers if num != element_to_remove]\n",
    "\n",
    "# Print the modified list\n",
    "print(f\"List after removing all occurrences of {element_to_remove}: {filtered_numbers}\")\n"
   ]
  },
  {
   "cell_type": "code",
   "execution_count": 17,
   "id": "da9ba926-0ab5-46e9-b66d-128088c3225b",
   "metadata": {},
   "outputs": [
    {
     "name": "stdout",
     "output_type": "stream",
     "text": [
      "The index of 30 is: 2\n"
     ]
    }
   ],
   "source": [
    "# Write a Python program to find the index of an element in a list.\n",
    "# List of elements\n",
    "numbers = [10, 20, 30, 40, 50]\n",
    "\n",
    "# Element to find the index of\n",
    "element_to_find = 30\n",
    "\n",
    "# Find the index of the element using the index() method\n",
    "try:\n",
    "    index = numbers.index(element_to_find)\n",
    "    print(f\"The index of {element_to_find} is: {index}\")\n",
    "except ValueError:\n",
    "    print(f\"{element_to_find} is not in the list.\")\n"
   ]
  },
  {
   "cell_type": "code",
   "execution_count": 18,
   "id": "9601b6e4-cb90-4e1f-87b4-38ed37076e0d",
   "metadata": {},
   "outputs": [
    {
     "name": "stdout",
     "output_type": "stream",
     "text": [
      "30 exists in the list.\n"
     ]
    }
   ],
   "source": [
    "# Write a Python program to find if a specific element exists in a list.\n",
    "# List of elements\n",
    "numbers = [10, 20, 30, 40, 50]\n",
    "\n",
    "# Element to check if it exists\n",
    "element_to_check = 30\n",
    "\n",
    "# Check if the element exists in the list using the 'in' operator\n",
    "if element_to_check in numbers:\n",
    "    print(f\"{element_to_check} exists in the list.\")\n",
    "else:\n",
    "    print(f\"{element_to_check} does not exist in the list.\")\n"
   ]
  },
  {
   "cell_type": "code",
   "execution_count": 19,
   "id": "9d8e7311-81de-4da2-826c-c4dcad28ed9f",
   "metadata": {},
   "outputs": [
    {
     "name": "stdout",
     "output_type": "stream",
     "text": [
      "List with duplicates removed: [1, 2, 3, 4, 5, 6, 7]\n"
     ]
    }
   ],
   "source": [
    "# Write a Python program to remove duplicates from a list.\n",
    "# List with duplicates\n",
    "numbers = [1, 2, 3, 4, 5, 1, 2, 6, 7, 3]\n",
    "\n",
    "# Remove duplicates by converting the list to a set and then back to a list\n",
    "unique_numbers = list(set(numbers))\n",
    "\n",
    "# Print the list with duplicates removed\n",
    "print(f\"List with duplicates removed: {unique_numbers}\")\n"
   ]
  },
  {
   "cell_type": "code",
   "execution_count": 20,
   "id": "09e5121b-97b3-42e4-8025-f28f3470681b",
   "metadata": {},
   "outputs": [
    {
     "name": "stdout",
     "output_type": "stream",
     "text": [
      "The element 2 appears 3 times in the list.\n"
     ]
    }
   ],
   "source": [
    "# Write a Python program to count the occurrences of an element in a list.\n",
    "# List of elements\n",
    "numbers = [1, 2, 3, 2, 4, 2, 5]\n",
    "\n",
    "# Element to count occurrences\n",
    "element_to_count = 2\n",
    "\n",
    "# Count the occurrences of the element using the count() method\n",
    "occurrences = numbers.count(element_to_count)\n",
    "\n",
    "# Print the number of occurrences\n",
    "print(f\"The element {element_to_count} appears {occurrences} times in the list.\")\n"
   ]
  },
  {
   "cell_type": "code",
   "execution_count": 21,
   "id": "b774b741-e9a6-45db-8f00-e6d9b734d03a",
   "metadata": {},
   "outputs": [
    {
     "name": "stdout",
     "output_type": "stream",
     "text": [
      "The number of even numbers in the list is: 5\n"
     ]
    }
   ],
   "source": [
    "# Write a Python program to get the number of even numbers in a list.\n",
    "# List of numbers\n",
    "numbers = [1, 2, 3, 4, 5, 6, 7, 8, 9, 10]\n",
    "\n",
    "# Count the even numbers using a list comprehension and len() function\n",
    "even_numbers_count = len([num for num in numbers if num % 2 == 0])\n",
    "\n",
    "# Print the number of even numbers\n",
    "print(f\"The number of even numbers in the list is: {even_numbers_count}\")\n"
   ]
  },
  {
   "cell_type": "code",
   "execution_count": 22,
   "id": "5ce4fd2b-ab16-4b40-9ac2-d19c244d8d96",
   "metadata": {},
   "outputs": [
    {
     "name": "stdout",
     "output_type": "stream",
     "text": [
      "The tuple is: (10, 20, 30, 40, 50)\n"
     ]
    }
   ],
   "source": [
    "# Write a Python program to create a tuple and print it.\n",
    "# Creating a tuple\n",
    "my_tuple = (10, 20, 30, 40, 50)\n",
    "\n",
    "# Printing the tuple\n",
    "print(f\"The tuple is: {my_tuple}\")\n"
   ]
  },
  {
   "cell_type": "code",
   "execution_count": 23,
   "id": "5c04f880-6e96-4ef4-9f4b-df21aae76ff1",
   "metadata": {},
   "outputs": [
    {
     "name": "stdout",
     "output_type": "stream",
     "text": [
      "Tuple to List: [1, 2, 3, 4, 5]\n",
      "List to Tuple: (6, 7, 8, 9, 10)\n"
     ]
    }
   ],
   "source": [
    "# Write a Python program to convert a tuple to a list and vice versa.\n",
    "# Create a tuple\n",
    "my_tuple = (1, 2, 3, 4, 5)\n",
    "\n",
    "# Convert tuple to list\n",
    "tuple_to_list = list(my_tuple)\n",
    "print(f\"Tuple to List: {tuple_to_list}\")\n",
    "\n",
    "# Create a list\n",
    "my_list = [6, 7, 8, 9, 10]\n",
    "\n",
    "# Convert list to tuple\n",
    "list_to_tuple = tuple(my_list)\n",
    "print(f\"List to Tuple: {list_to_tuple}\")\n"
   ]
  },
  {
   "cell_type": "code",
   "execution_count": 24,
   "id": "d5192acc-27f3-456e-9c72-3b276a587bf5",
   "metadata": {},
   "outputs": [
    {
     "name": "stdout",
     "output_type": "stream",
     "text": [
      "The maximum value in the tuple is: 60\n",
      "The minimum value in the tuple is: 5\n"
     ]
    }
   ],
   "source": [
    "# Write a Python program to find the maximum and minimum values in a tuple.\n",
    "# Create a tuple\n",
    "my_tuple = (10, 20, 30, 5, 40, 60, 15)\n",
    "\n",
    "# Find the maximum and minimum values in the tuple\n",
    "max_value = max(my_tuple)\n",
    "min_value = min(my_tuple)\n",
    "\n",
    "# Print the results\n",
    "print(f\"The maximum value in the tuple is: {max_value}\")\n",
    "print(f\"The minimum value in the tuple is: {min_value}\")\n"
   ]
  },
  {
   "cell_type": "code",
   "execution_count": 25,
   "id": "43f0a340-9407-4302-af7e-4e63db578bbf",
   "metadata": {},
   "outputs": [
    {
     "name": "stdout",
     "output_type": "stream",
     "text": [
      "a = 10, b = 20, c = 30\n"
     ]
    }
   ],
   "source": [
    "# Write a Python program to unpack a tuple into variables.# Create a tuple\n",
    "my_tuple = (10, 20, 30)\n",
    "\n",
    "# Unpack the tuple into variables\n",
    "a, b, c = my_tuple\n",
    "\n",
    "# Print the values of the variables\n",
    "print(f\"a = {a}, b = {b}, c = {c}\")\n"
   ]
  },
  {
   "cell_type": "code",
   "execution_count": 26,
   "id": "46e96e29-2157-4b9f-bb24-0bd973eada9f",
   "metadata": {},
   "outputs": [
    {
     "name": "stdout",
     "output_type": "stream",
     "text": [
      "The element 3 exists in the set.\n",
      "Modified set: {1, 2, 3, 4, 5, 6}\n"
     ]
    }
   ],
   "source": [
    "# Write a Python program to add an element to a set and check if an element exists in the set.\n",
    "# Creating a set\n",
    "my_set = {1, 2, 3, 4, 5}\n",
    "\n",
    "# Adding an element to the set\n",
    "my_set.add(6)\n",
    "\n",
    "# Checking if an element exists in the set\n",
    "element_to_check = 3\n",
    "\n",
    "if element_to_check in my_set:\n",
    "    print(f\"The element {element_to_check} exists in the set.\")\n",
    "else:\n",
    "    print(f\"The element {element_to_check} does not exist in the set.\")\n",
    "\n",
    "# Printing the modified set\n",
    "print(f\"Modified set: {my_set}\")\n"
   ]
  },
  {
   "cell_type": "code",
   "execution_count": 27,
   "id": "d81a803b-fd80-403e-9ae3-680ef44a3d86",
   "metadata": {},
   "outputs": [
    {
     "name": "stdout",
     "output_type": "stream",
     "text": [
      "{'name': 'Alice', 'age': 25, 'city': 'New York', 'occupation': 'Engineer'}\n"
     ]
    }
   ],
   "source": [
    "# Write a Python program to create a dictionary with keys and values and print it.\n",
    "# Creating a dictionary with keys and values\n",
    "my_dict = {\n",
    "    'name': 'Alice',\n",
    "    'age': 25,\n",
    "    'city': 'New York',\n",
    "    'occupation': 'Engineer'\n",
    "}\n",
    "\n",
    "# Printing the dictionary\n",
    "print(my_dict)\n"
   ]
  },
  {
   "cell_type": "code",
   "execution_count": 28,
   "id": "7432174b-fe75-4371-b23a-e2c5d62edb15",
   "metadata": {},
   "outputs": [
    {
     "name": "stdout",
     "output_type": "stream",
     "text": [
      "The value associated with the key 'c' is: 30\n"
     ]
    }
   ],
   "source": [
    "# Write a Python program to access a dictionary value using a key.\n",
    "# Sample dictionary\n",
    "sample_dict = {'a': 10, 'b': 20, 'c': 30, 'd': 40}\n",
    "\n",
    "# Key to access\n",
    "key_to_access = 'c'\n",
    "\n",
    "# Access the value using the key\n",
    "value = sample_dict.get(key_to_access)\n",
    "\n",
    "# Check if the key exists and print the value\n",
    "if value is not None:\n",
    "    print(f\"The value associated with the key '{key_to_access}' is: {value}\")\n",
    "else:\n",
    "    print(f\"The key '{key_to_access}' does not exist in the dictionary.\")\n"
   ]
  },
  {
   "cell_type": "code",
   "execution_count": 29,
   "id": "000b3260-d91f-41f2-9729-4b0124f2c4d2",
   "metadata": {},
   "outputs": [
    {
     "name": "stdout",
     "output_type": "stream",
     "text": [
      "The key 'b' exists in the dictionary.\n"
     ]
    }
   ],
   "source": [
    "# Write a Python program to check if a key exists in a dictionary.\n",
    "# Sample dictionary\n",
    "sample_dict = {'a': 10, 'b': 20, 'c': 30, 'd': 40}\n",
    "\n",
    "# Key to check\n",
    "key_to_check = 'b'\n",
    "\n",
    "# Check if the key exists using the 'in' operator\n",
    "if key_to_check in sample_dict:\n",
    "    print(f\"The key '{key_to_check}' exists in the dictionary.\")\n",
    "else:\n",
    "    print(f\"The key '{key_to_check}' does not exist in the dictionary.\")\n"
   ]
  },
  {
   "cell_type": "code",
   "execution_count": 30,
   "id": "c4b1a942-818e-42c1-b742-1fabe80fca6d",
   "metadata": {},
   "outputs": [
    {
     "name": "stdout",
     "output_type": "stream",
     "text": [
      "Merged dictionary: {'a': 10, 'b': 20, 'c': 30, 'd': 40}\n"
     ]
    }
   ],
   "source": [
    "# Write a Python program to merge two dictionaries.\n",
    "# Sample dictionaries\n",
    "dict1 = {'a': 10, 'b': 20}\n",
    "dict2 = {'c': 30, 'd': 40}\n",
    "\n",
    "# Merging the dictionaries using the update() method\n",
    "dict1.update(dict2)\n",
    "\n",
    "# Print the merged dictionary\n",
    "print(f\"Merged dictionary: {dict1}\")\n"
   ]
  },
  {
   "cell_type": "code",
   "execution_count": 31,
   "id": "a78f1070-3ff3-436a-8391-153f019f53cd",
   "metadata": {},
   "outputs": [
    {
     "name": "stdout",
     "output_type": "stream",
     "text": [
      "Modified dictionary: {'a': 10, 'c': 30, 'd': 40}\n",
      "Removed value: 20\n"
     ]
    }
   ],
   "source": [
    "# Write a Python program to remove a key from a dictionary.\n",
    "# Sample dictionary\n",
    "sample_dict = {'a': 10, 'b': 20, 'c': 30, 'd': 40}\n",
    "\n",
    "# Key to remove\n",
    "key_to_remove = 'b'\n",
    "\n",
    "# Remove the key using the pop() method\n",
    "removed_value = sample_dict.pop(key_to_remove, None)  # None is the default value if key does not exist\n",
    "\n",
    "# Print the modified dictionary and the removed value\n",
    "print(f\"Modified dictionary: {sample_dict}\")\n",
    "print(f\"Removed value: {removed_value}\")\n"
   ]
  },
  {
   "cell_type": "code",
   "execution_count": 32,
   "id": "fcba0267-8cc4-4e89-9e78-2d820916c177",
   "metadata": {},
   "outputs": [
    {
     "name": "stdout",
     "output_type": "stream",
     "text": [
      "The number of keys in the dictionary is: 4\n"
     ]
    }
   ],
   "source": [
    "# Write a Python program to get the number of keys in a dictionary.\n",
    "# Sample dictionary\n",
    "sample_dict = {'a': 10, 'b': 20, 'c': 30, 'd': 40}\n",
    "\n",
    "# Get the number of keys in the dictionary using len() and keys()\n",
    "num_keys = len(sample_dict)\n",
    "\n",
    "# Print the number of keys\n",
    "print(f\"The number of keys in the dictionary is: {num_keys}\")\n"
   ]
  },
  {
   "cell_type": "code",
   "execution_count": 33,
   "id": "d4c5fd77-9656-43e5-8fe2-be7dca23eb6d",
   "metadata": {},
   "outputs": [
    {
     "name": "stdout",
     "output_type": "stream",
     "text": [
      "The largest value in the dictionary is: 40\n",
      "The smallest value in the dictionary is: 4\n"
     ]
    }
   ],
   "source": [
    "# Write a Python program to find the largest and smallest values in a dictionary.\n",
    "# Sample dictionary\n",
    "numbers_dict = {'a': 10, 'b': 20, 'c': 4, 'd': 40, 'e': 15}\n",
    "\n",
    "# Find the largest and smallest values in the dictionary\n",
    "largest_value = max(numbers_dict.values())\n",
    "smallest_value = min(numbers_dict.values())\n",
    "\n",
    "# Print the results\n",
    "print(f\"The largest value in the dictionary is: {largest_value}\")\n",
    "print(f\"The smallest value in the dictionary is: {smallest_value}\")\n"
   ]
  },
  {
   "cell_type": "markdown",
   "id": "7830b8cc-9a90-45a2-8e4a-6f3c2b8b133b",
   "metadata": {},
   "source": [
    "## Functions (User-Defined, Arguments, Keyword Arguments, Return Values)"
   ]
  },
  {
   "cell_type": "code",
   "execution_count": 34,
   "id": "06a33fba-c6b1-4989-90f4-b647d1fe1627",
   "metadata": {},
   "outputs": [
    {
     "name": "stdout",
     "output_type": "stream",
     "text": [
      "The square of 7 is: 49\n"
     ]
    }
   ],
   "source": [
    "# Write a Python function that returns the square of a number.\n",
    "def square_number(number):\n",
    "\n",
    "    return number ** 2\n",
    "result = square_number(7)\n",
    "print(\"The square of 7 is:\", result)\n"
   ]
  },
  {
   "cell_type": "code",
   "execution_count": 35,
   "id": "91d90a4a-7329-45db-893b-caed8450ba96",
   "metadata": {},
   "outputs": [
    {
     "name": "stdout",
     "output_type": "stream",
     "text": [
      "The sum of 3 and 7 is: 10\n"
     ]
    }
   ],
   "source": [
    "# Write a Python function that accepts two parameters and returns their sum.\n",
    "def add_numbers(a, b):\n",
    "    return a + b\n",
    "result = add_numbers(3, 7)\n",
    "print(\"The sum of 3 and 7 is:\", result)\n"
   ]
  },
  {
   "cell_type": "code",
   "execution_count": 36,
   "id": "dec2f9a5-90c5-478b-890b-0a506ecf45d3",
   "metadata": {},
   "outputs": [
    {
     "name": "stdout",
     "output_type": "stream",
     "text": [
      "29 is a prime number.\n"
     ]
    }
   ],
   "source": [
    "# Write a Python function to check if a given number is prime.\n",
    "def is_prime(number):\n",
    "    if number <= 1:\n",
    "        return False  # 0, 1, and negative numbers are not prime\n",
    "    if number <= 3:\n",
    "        return True  # 2 and 3 are prime numbers\n",
    "    if number % 2 == 0 or number % 3 == 0:\n",
    "        return False  # Eliminate multiples of 2 and 3\n",
    "\n",
    "    # Check divisors from 5 to √number, skipping even numbers\n",
    "    i = 5\n",
    "    while i * i <= number:\n",
    "        if number % i == 0 or number % (i + 2) == 0:\n",
    "            return False\n",
    "        i += 6  # Increment to test next potential prime factor\n",
    "\n",
    "    return True\n",
    "\n",
    "# Example usage:\n",
    "number = 29\n",
    "if is_prime(number):\n",
    "    print(f\"{number} is a prime number.\")\n",
    "else:\n",
    "    print(f\"{number} is not a prime number.\")\n"
   ]
  },
  {
   "cell_type": "code",
   "execution_count": 37,
   "id": "56337441-68c3-45df-8733-a34cde0533a5",
   "metadata": {},
   "outputs": [
    {
     "name": "stdout",
     "output_type": "stream",
     "text": [
      "The factorial of 5 is: 120\n"
     ]
    }
   ],
   "source": [
    "# Write a Python function to calculate the factorial of a number using recursion.\n",
    "def factorial(n):\n",
    "    if n < 0:\n",
    "        raise ValueError(\"Factorial is not defined for negative numbers.\")\n",
    "    if n == 0 or n == 1:\n",
    "        return 1\n",
    "    return n * factorial(n - 1)\n",
    "\n",
    "# Example usage:\n",
    "number = 5\n",
    "print(f\"The factorial of {number} is: {factorial(number)}\")\n"
   ]
  },
  {
   "cell_type": "code",
   "execution_count": 38,
   "id": "84a2d010-e7b2-409b-b1f4-99bf806bb77a",
   "metadata": {},
   "outputs": [
    {
     "name": "stdout",
     "output_type": "stream",
     "text": [
      "2 raised to the power of 3 is: 8\n"
     ]
    }
   ],
   "source": [
    "# Write a Python function to calculate the power of a number using recursion.\n",
    "def power(base, exponent):\n",
    "    if exponent == 0:\n",
    "        return 1  # Base case: any number raised to the power of 0 is 1\n",
    "    if exponent < 0:\n",
    "        return 1 / power(base, -exponent)  # Handle negative exponents\n",
    "    return base * power(base, exponent - 1)  # Recursive case\n",
    "\n",
    "# Example usage:\n",
    "base = 2\n",
    "exponent = 3\n",
    "print(f\"{base} raised to the power of {exponent} is: {power(base, exponent)}\")\n"
   ]
  },
  {
   "cell_type": "code",
   "execution_count": 39,
   "id": "ec44911e-7820-46cc-96a3-4ca443888837",
   "metadata": {},
   "outputs": [
    {
     "name": "stdout",
     "output_type": "stream",
     "text": [
      "The length of the list is: 5\n"
     ]
    }
   ],
   "source": [
    "# Write a Python function to accept a list and return its length without using the built-in len() function.\n",
    "def list_length(lst):\n",
    "    count = 0\n",
    "    for _ in lst:\n",
    "        count += 1\n",
    "    return count\n",
    "\n",
    "# Example usage:\n",
    "my_list = [1, 2, 3, 4, 5]\n",
    "print(f\"The length of the list is: {list_length(my_list)}\")\n"
   ]
  },
  {
   "cell_type": "code",
   "execution_count": 40,
   "id": "fb4c08e1-34f3-487a-a1c6-77cd60fb4836",
   "metadata": {},
   "outputs": [
    {
     "name": "stdout",
     "output_type": "stream",
     "text": [
      "The sum of positional arguments is: 10\n"
     ]
    }
   ],
   "source": [
    "# Write a Python function that accepts both positional and keyword arguments and prints the sum of positional arguments.\n",
    "def sum_positional_args(*args, **kwargs):\n",
    "    total = sum(args)  # Sum all positional arguments\n",
    "    print(f\"The sum of positional arguments is: {total}\")\n",
    "    return total\n",
    "\n",
    "# Example usage:\n",
    "result = sum_positional_args(1, 2, 3, 4, key1=\"value1\", key2=\"value2\")\n"
   ]
  },
  {
   "cell_type": "code",
   "execution_count": 41,
   "id": "f4ffc7a8-f579-461c-b507-4085a0477283",
   "metadata": {},
   "outputs": [
    {
     "name": "stdout",
     "output_type": "stream",
     "text": [
      "The maximum number is: 20\n"
     ]
    }
   ],
   "source": [
    "# Write a Python function to find the maximum of two numbers using keyword arguments.\n",
    "def find_maximum(*, num1, num2):\n",
    "    \"\"\"\n",
    "    Finds the maximum of two numbers using keyword arguments.\n",
    "\n",
    "    Args:\n",
    "        num1 (float or int): The first number.\n",
    "        num2 (float or int): The second number.\n",
    "\n",
    "    Returns:\n",
    "        float or int: The maximum of the two numbers.\n",
    "    \"\"\"\n",
    "    return max(num1, num2)\n",
    "\n",
    "# Example usage:\n",
    "result = find_maximum(num1=10, num2=20)\n",
    "print(f\"The maximum number is: {result}\")\n"
   ]
  },
  {
   "cell_type": "code",
   "execution_count": 42,
   "id": "0b00c4af-89e0-43e8-a991-1b684d2ce33f",
   "metadata": {},
   "outputs": [
    {
     "name": "stdout",
     "output_type": "stream",
     "text": [
      "The product of the list is: 24\n"
     ]
    }
   ],
   "source": [
    "# Write a Python function that accepts a list of numbers and returns their product.\n",
    "def list_product(numbers):\n",
    "    \"\"\"\n",
    "    Calculates the product of a list of numbers.\n",
    "\n",
    "    Args:\n",
    "        numbers (list): A list of numbers (int or float).\n",
    "\n",
    "    Returns:\n",
    "        int or float: The product of the numbers in the list.\n",
    "    \"\"\"\n",
    "    product = 1\n",
    "    for num in numbers:\n",
    "        product *= num\n",
    "    return product\n",
    "\n",
    "# Example usage:\n",
    "my_list = [2, 3, 4]\n",
    "print(f\"The product of the list is: {list_product(my_list)}\")\n"
   ]
  },
  {
   "cell_type": "code",
   "execution_count": 43,
   "id": "9cd11703-5b48-44fe-af4e-ea906a2762c9",
   "metadata": {},
   "outputs": [
    {
     "name": "stdout",
     "output_type": "stream",
     "text": [
      "The number 7 is Odd.\n"
     ]
    }
   ],
   "source": [
    "# Write a Python function to check if a number is even or odd using the modulo operator.\n",
    "def check_even_or_odd(number):\n",
    "    \"\"\"\n",
    "    Checks if a number is even or odd.\n",
    "\n",
    "    Args:\n",
    "        number (int): The number to check.\n",
    "\n",
    "    Returns:\n",
    "        str: \"Even\" if the number is even, \"Odd\" if the number is odd.\n",
    "    \"\"\"\n",
    "    if number % 2 == 0:\n",
    "        return \"Even\"\n",
    "    else:\n",
    "        return \"Odd\"\n",
    "\n",
    "# Example usage:\n",
    "num = 7\n",
    "print(f\"The number {num} is {check_even_or_odd(num)}.\")\n"
   ]
  },
  {
   "cell_type": "code",
   "execution_count": 44,
   "id": "afbf262e-daed-40a9-827f-82fa60979610",
   "metadata": {},
   "outputs": [
    {
     "name": "stdout",
     "output_type": "stream",
     "text": [
      "[1, 4, 9, 16, 25, 36, 49, 64, 81, 100]\n"
     ]
    }
   ],
   "source": [
    "# Write a Python program to create a list of squares of numbers from 1 to 10 using list comprehension.\n",
    "# List comprehension to create a list of squares of numbers from 1 to 10\n",
    "squares = [x**2 for x in range(1, 11)]\n",
    "\n",
    "# Print the list of squares\n",
    "print(squares)\n"
   ]
  },
  {
   "cell_type": "code",
   "execution_count": 45,
   "id": "7fff76d8-9ba8-4006-9be6-6f7350092d1c",
   "metadata": {},
   "outputs": [
    {
     "name": "stdout",
     "output_type": "stream",
     "text": [
      "[1, 3, 5, 7, 9]\n"
     ]
    }
   ],
   "source": [
    "# Write a Python program to filter out all even numbers from a list using list comprehension.\n",
    "# Original list of numbers\n",
    "numbers = [1, 2, 3, 4, 5, 6, 7, 8, 9, 10]\n",
    "\n",
    "# List comprehension to filter out even numbers\n",
    "odd_numbers = [num for num in numbers if num % 2 != 0]\n",
    "\n",
    "# Print the list of odd numbers\n",
    "print(odd_numbers)\n"
   ]
  },
  {
   "cell_type": "code",
   "execution_count": 46,
   "id": "6ae9b8df-38f9-4fd7-bad1-aa7b07cc9271",
   "metadata": {},
   "outputs": [
    {
     "name": "stdout",
     "output_type": "stream",
     "text": [
      "['apple', 'banana', 'grape', 'cherry']\n"
     ]
    }
   ],
   "source": [
    "# Write a Python program to create a list of strings that are longer than 4 characters from a given list of words using list comprehension.\n",
    "# Given list of words\n",
    "words = [\"apple\", \"banana\", \"kiwi\", \"pear\", \"grape\", \"cherry\", \"fig\"]\n",
    "\n",
    "# List comprehension to create a list of words longer than 4 characters\n",
    "long_words = [word for word in words if len(word) > 4]\n",
    "\n",
    "# Print the list of words longer than 4 characters\n",
    "print(long_words)\n"
   ]
  },
  {
   "cell_type": "code",
   "execution_count": 47,
   "id": "f492c7d4-6ad3-48ab-9b61-232be02aecee",
   "metadata": {},
   "outputs": [
    {
     "name": "stdout",
     "output_type": "stream",
     "text": [
      "['H', 'W', 'T', 'E']\n"
     ]
    }
   ],
   "source": [
    "# Write a Python program to create a list of all uppercase letters in a string using list comprehension.\n",
    "# Given string\n",
    "text = \"Hello, World! This is an Example.\"\n",
    "\n",
    "# List comprehension to filter out uppercase letters\n",
    "uppercase_letters = [char for char in text if char.isupper()]\n",
    "\n",
    "# Print the list of uppercase letters\n",
    "print(uppercase_letters)\n"
   ]
  },
  {
   "cell_type": "code",
   "execution_count": 59,
   "id": "929a7f74-1762-4a2a-be23-bacf67ff4d8b",
   "metadata": {},
   "outputs": [
    {
     "name": "stdout",
     "output_type": "stream",
     "text": [
      "The first 10 Fibonacci numbers are: [0, 1, 1, 2, 3, 5, 8, 13, 21, 34]\n"
     ]
    }
   ],
   "source": [
    "# Write a Python program to generate the first n Fibonacci numbers using list comprehension.\n",
    "# Function to generate the first n Fibonacci numbers\n",
    "def fibonacci(n):\n",
    "    fib_list = [0, 1]  # Initializing the first two Fibonacci numbers\n",
    "    [fib_list.append(fib_list[-2] + fib_list[-1]) for _ in range(2, n)]  # List comprehension to generate Fibonacci numbers\n",
    "    return fib_list[:n]  # Return the first n numbers\n",
    "\n",
    "# Input: Number of Fibonacci numbers to generate\n",
    "n = 10\n",
    "\n",
    "# Get the first n Fibonacci numbers\n",
    "fib_numbers = fibonacci(n)\n",
    "\n",
    "# Print the Fibonacci numbers\n",
    "print(f\"The first {n} Fibonacci numbers are: {fib_numbers}\")\n"
   ]
  },
  {
   "cell_type": "code",
   "execution_count": 50,
   "id": "47188bbc-cf62-47bb-a14e-0582c8b5cdd9",
   "metadata": {},
   "outputs": [
    {
     "name": "stdout",
     "output_type": "stream",
     "text": [
      "{1: 1, 2: 4, 3: 9, 4: 16, 5: 25, 6: 36, 7: 49, 8: 64, 9: 81, 10: 100}\n"
     ]
    }
   ],
   "source": [
    "# Write a Python program to create a dictionary where keys are numbers and values are their squares using dictionary comprehension.\n",
    "# Range of numbers\n",
    "numbers = range(1, 11)\n",
    "\n",
    "# Dictionary comprehension to create a dictionary of numbers and their squares\n",
    "squares_dict = {num: num**2 for num in numbers}\n",
    "\n",
    "# Print the dictionary\n",
    "print(squares_dict)\n"
   ]
  },
  {
   "cell_type": "code",
   "execution_count": 52,
   "id": "3c4637d3-aa85-4b4c-acf3-953c10818bcb",
   "metadata": {},
   "outputs": [
    {
     "name": "stdout",
     "output_type": "stream",
     "text": [
      "{'a': 1, 'b': 2, 'c': 3, 'd': 4}\n"
     ]
    }
   ],
   "source": [
    "# Write a Python program to create a dictionary from two lists (one for keys and one for values) using dictionary comprehension.\n",
    "# Lists for keys and values\n",
    "keys = ['a', 'b', 'c', 'd']\n",
    "values = [1, 2, 3, 4]\n",
    "\n",
    "# Dictionary comprehension to create a dictionary from the two lists\n",
    "result_dict = {keys[i]: values[i] for i in range(len(keys))}\n",
    "\n",
    "# Print the dictionary\n",
    "print(result_dict)\n"
   ]
  },
  {
   "cell_type": "code",
   "execution_count": 53,
   "id": "de817d6f-96e7-4346-839e-1ef0df539b6b",
   "metadata": {},
   "outputs": [
    {
     "name": "stdout",
     "output_type": "stream",
     "text": [
      "{1: 1, 2: 8, 3: 27, 4: 64, 5: 125}\n"
     ]
    }
   ],
   "source": [
    "# Write a Python program to create a dictionary of numbers from 1 to 5 and their cubes using dictionary comprehension.\n",
    "# Dictionary comprehension to create a dictionary of numbers and their cubes\n",
    "cubes_dict = {num: num**3 for num in range(1, 6)}\n",
    "\n",
    "# Print the dictionary\n",
    "print(cubes_dict)\n"
   ]
  },
  {
   "cell_type": "code",
   "execution_count": 54,
   "id": "33695301-057e-49a6-9f80-a2f4e3af60ed",
   "metadata": {},
   "outputs": [
    {
     "name": "stdout",
     "output_type": "stream",
     "text": [
      "[1, 4, 9, 16, 25]\n"
     ]
    }
   ],
   "source": [
    "# Write a Python program to square each element of a list using the map() function.\n",
    "# List of numbers\n",
    "numbers = [1, 2, 3, 4, 5]\n",
    "\n",
    "# Use map() to square each element of the list\n",
    "squared_numbers = list(map(lambda x: x**2, numbers))\n",
    "\n",
    "# Print the result\n",
    "print(squared_numbers)\n"
   ]
  },
  {
   "cell_type": "code",
   "execution_count": 55,
   "id": "6d4d17f3-c40f-4944-8656-c6416b600361",
   "metadata": {},
   "outputs": [
    {
     "name": "stdout",
     "output_type": "stream",
     "text": [
      "[2, 4, 6, 8, 10]\n"
     ]
    }
   ],
   "source": [
    "# Write a Python program to filter all even numbers from a list using the filter() function.\n",
    "# List of numbers\n",
    "numbers = [1, 2, 3, 4, 5, 6, 7, 8, 9, 10]\n",
    "\n",
    "# Use filter() to filter even numbers\n",
    "even_numbers = list(filter(lambda x: x % 2 == 0, numbers))\n",
    "\n",
    "# Print the result\n",
    "print(even_numbers)\n"
   ]
  },
  {
   "cell_type": "code",
   "execution_count": 56,
   "id": "6634ba1f-9f81-475e-b7c4-422d102afb75",
   "metadata": {},
   "outputs": [
    {
     "name": "stdout",
     "output_type": "stream",
     "text": [
      "[15, 30, 45, 60]\n"
     ]
    }
   ],
   "source": [
    "# Write a Python program to use a lambda function to check if a number is divisible by both 3 and 5.\n",
    "# List of numbers to check\n",
    "numbers = [15, 30, 7, 10, 45, 8, 60]\n",
    "\n",
    "# Use a lambda function to check if a number is divisible by both 3 and 5\n",
    "divisible_by_3_and_5 = list(filter(lambda x: x % 3 == 0 and x % 5 == 0, numbers))\n",
    "\n",
    "# Print the result\n",
    "print(divisible_by_3_and_5)\n"
   ]
  },
  {
   "cell_type": "code",
   "execution_count": 57,
   "id": "0aac8430-5d77-439d-9a99-9598fadf989c",
   "metadata": {},
   "outputs": [
    {
     "name": "stdout",
     "output_type": "stream",
     "text": [
      "[2, 4, 6, 8, 10]\n"
     ]
    }
   ],
   "source": [
    "# Write a Python program to multiply all numbers in a list by 2 using a lambda function inside map().\n",
    "# List of numbers\n",
    "numbers = [1, 2, 3, 4, 5]\n",
    "\n",
    "# Use map() with lambda to multiply each number by 2\n",
    "doubled_numbers = list(map(lambda x: x * 2, numbers))\n",
    "\n",
    "# Print the result\n",
    "print(doubled_numbers)\n"
   ]
  },
  {
   "cell_type": "code",
   "execution_count": 58,
   "id": "e4cd5ba8-c6ec-4f0d-8787-bf0a4b7a2e22",
   "metadata": {},
   "outputs": [
    {
     "name": "stdout",
     "output_type": "stream",
     "text": [
      "[1, 3, 4, 5, 6]\n"
     ]
    }
   ],
   "source": [
    "# Write a Python program to remove all occurrences of a specific element from a list.\n",
    "# List of numbers\n",
    "numbers = [1, 2, 3, 4, 2, 5, 2, 6]\n",
    "\n",
    "# Element to remove\n",
    "element_to_remove = 2\n",
    "\n",
    "# Use list comprehension to remove all occurrences of the specific element\n",
    "filtered_numbers = [num for num in numbers if num != element_to_remove]\n",
    "\n",
    "# Print the modified list\n",
    "print(filtered_numbers)\n"
   ]
  },
  {
   "cell_type": "markdown",
   "id": "caba77c7-93db-4893-8f48-c7365ed5c585",
   "metadata": {},
   "source": [
    "**Note:** \n",
    "- All assignments must follow [PEP 8 – Style Guide for Python Code](https://peps.python.org/pep-0008/) guidelines.\n",
    "- You can add multiple solutions for each question. Create a new code cell next to the question and add it. Shortcut for creating cell : `Alt + Enter`"
   ]
  }
 ],
 "metadata": {
  "kernelspec": {
   "display_name": "base",
   "language": "python",
   "name": "python3"
  },
  "language_info": {
   "codemirror_mode": {
    "name": "ipython",
    "version": 3
   },
   "file_extension": ".py",
   "mimetype": "text/x-python",
   "name": "python",
   "nbconvert_exporter": "python",
   "pygments_lexer": "ipython3",
   "version": "3.12.3"
  }
 },
 "nbformat": 4,
 "nbformat_minor": 5
}
